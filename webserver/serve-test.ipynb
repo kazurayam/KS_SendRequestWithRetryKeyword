{
 "cells": [
  {
   "cell_type": "code",
   "execution_count": 1,
   "metadata": {},
   "outputs": [
    {
     "name": "stdout",
     "output_type": "stream",
     "text": [
      "<html>\n",
      "  <head>\n",
      "    <meta charset=\"UTF-8\" />\n",
      "    <title>JavaScript本格入門</title>\n",
      "  </head>\n",
      "  <body>\n",
      "    <h3>10.4 非同期通信の基本を理解する - Fetch API</h3>\n",
      "    <ul>\n",
      "        <li><a href=\"fetch_basic.html\">fetch_basic</a></li>\n",
      "        <li><a href=\"fetch_query.html\">fetch_query</a></li>\n",
      "        <li><a href=\"fetch_post.html\">fetch_post</a></li>\n",
      "        <li><a href=\"fetch_upload.html\">fetch_upload</a></li>\n",
      "        <li><a href=\"fetch_query_cors.html\">fetch_query_cors</a></li>\n",
      "        <li><a href=\"bookmark.html\">bookmark</a></li>\n",
      "        <li><a href=\"bookmark_jsonp.html\">bookmark_jsonp</a></li>\n",
      "        <li><a href=\"cross_main.html\">cross_main</a></li>\n",
      "    </ul>\n",
      "  </body>\n",
      "</html>\n"
     ]
    }
   ],
   "source": [
    "const response = await fetch(\"http://localhost:3000/\");\n",
    "const text = await response.text();\n",
    "console.log(text);"
   ]
  },
  {
   "cell_type": "code",
   "execution_count": 12,
   "metadata": {},
   "outputs": [
    {
     "name": "stdout",
     "output_type": "stream",
     "text": [
      "let btn = document.querySelector('#btn');\n",
      "btn.addEventListener('click', function() {\n",
      "    fetch('book.json')\n",
      "        .then(res => {\n",
      "            if (res.ok) {\n",
      "                return res.json();\n",
      "            }\n",
      "            throw new Error('unable to access the specified resource');\n",
      "        })\n",
      "        .then(data => console.log(data.title))\n",
      "        .catch(e => window.alert(e.message));\n",
      "}, false);\n"
     ]
    }
   ],
   "source": [
    "const response = await fetch(\"http://localhost:3000/scripts/fetch_basic.js\");\n",
    "const text = await response.text();\n",
    "console.log(text);"
   ]
  },
  {
   "cell_type": "code",
   "execution_count": 13,
   "metadata": {},
   "outputs": [
    {
     "name": "stdout",
     "output_type": "stream",
     "text": [
      "{\n",
      "  \"title\": \"JavaScript本格入門\",\n",
      "  \"price\": 3200,\n",
      "  \"publisher\": \"技術評論社\"\n",
      "}\n"
     ]
    }
   ],
   "source": [
    "const response = await fetch(\"http://localhost:3000/book.json\");\n",
    "const text = await response.text();\n",
    "console.log(text);"
   ]
  },
  {
   "cell_type": "code",
   "execution_count": 14,
   "metadata": {},
   "outputs": [
    {
     "name": "stdout",
     "output_type": "stream",
     "text": [
      "<html>\n",
      "  <head>\n",
      "    <meta charset=\"UTF-8\" />\n",
      "    <title>JavaScript本格入門</title>\n",
      "  </head>\n",
      "  <body>\n",
      "    <input id='btn' type=\"button\" value=\"print message in console\"/>\n",
      "    <script type=\"text/javascript\" src=\"scripts/fetch_basic.js\"></script>\n",
      "  </body>\n",
      "</html>\n"
     ]
    }
   ],
   "source": [
    "const response = await fetch(\"http://localhost:3000/fetch_basic.html\");\n",
    "const text = await response.text();\n",
    "console.log(text);"
   ]
  }
 ],
 "metadata": {
  "kernelspec": {
   "display_name": "Deno",
   "language": "typescript",
   "name": "deno"
  },
  "language_info": {
   "file_extension": ".ts",
   "mimetype": "text/x.typescript",
   "name": "typescript",
   "nb_converter": "script",
   "pygments_lexer": "typescript",
   "version": "5.3.3"
  }
 },
 "nbformat": 4,
 "nbformat_minor": 2
}
