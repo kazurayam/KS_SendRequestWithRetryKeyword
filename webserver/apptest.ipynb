{
 "cells": [
  {
   "cell_type": "markdown",
   "metadata": {},
   "source": [
    "Samples are learned from a web article\n",
    "- [Native Router in Deno](https://medium.com/deno-the-complete-reference/native-router-in-deno-16595970daae), Mayank Choubey\n"
   ]
  },
  {
   "cell_type": "markdown",
   "metadata": {},
   "source": [
    "### Simplest Request and Response"
   ]
  },
  {
   "cell_type": "code",
   "execution_count": 2,
   "metadata": {},
   "outputs": [],
   "source": [
    "const response = await fetch(\"http://localhost:3000/hello\");\n",
    "if (response.status === 200) {\n",
    "    const text = await response.text();\n",
    "    console.log(text);\n",
    "} else {\n",
    "    console.log(response);\n",
    "}"
   ]
  },
  {
   "cell_type": "markdown",
   "metadata": {},
   "source": [
    "### Case of Status=404 Not Found"
   ]
  },
  {
   "cell_type": "code",
   "execution_count": 2,
   "metadata": {},
   "outputs": [
    {
     "name": "stdout",
     "output_type": "stream",
     "text": [
      "Response {\n",
      "  body: ReadableStream { locked: false },\n",
      "  bodyUsed: false,\n",
      "  headers: Headers {\n",
      "    \"content-length\": \"0\",\n",
      "    date: \"Mon, 15 Jan 2024 23:28:24 GMT\",\n",
      "    vary: \"Accept-Encoding\"\n",
      "  },\n",
      "  ok: false,\n",
      "  redirected: false,\n",
      "  status: 404,\n",
      "  statusText: \"Not Found\",\n",
      "  url: \"http://localhost:3000/is_not_valid_path\"\n",
      "}\n"
     ]
    }
   ],
   "source": [
    "const response = await fetch(\"http://localhost:3000/is_not_valid_path\");\n",
    "if (response.status === 200) {\n",
    "    const text = await response.text();\n",
    "    console.log(text);\n",
    "} else {\n",
    "    console.log(response);\n",
    "}"
   ]
  },
  {
   "cell_type": "markdown",
   "metadata": {},
   "source": [
    "### GET with URL query"
   ]
  },
  {
   "cell_type": "code",
   "execution_count": 3,
   "metadata": {},
   "outputs": [
    {
     "name": "stdout",
     "output_type": "stream",
     "text": [
      "Hello, decoy!\n"
     ]
    }
   ],
   "source": [
    "const response = await fetch(\"http://localhost:3000/hello?name=decoy\");\n",
    "if (response.status === 200) {\n",
    "    const text = await response.text();\n",
    "    console.log(text);\n",
    "} else {\n",
    "    console.log(response);\n",
    "}"
   ]
  },
  {
   "cell_type": "markdown",
   "metadata": {},
   "source": [
    "### POST with Form data"
   ]
  },
  {
   "cell_type": "code",
   "execution_count": 4,
   "metadata": {},
   "outputs": [
    {
     "name": "stdout",
     "output_type": "stream",
     "text": [
      "Hello, Ippei\n"
     ]
    }
   ],
   "source": [
    "const formData = new FormData();\n",
    "formData.set('name', 'Ippei');\n",
    "const response = await fetch(\"http://localhost:3000/hello\", {\n",
    "    method: 'POST',\n",
    "    body: formData,\n",
    "})\n",
    "if (response.status === 200) {\n",
    "    const text = await response.text();\n",
    "    console.log(text);\n",
    "} else {\n",
    "    console.log(response);\n",
    "}"
   ]
  },
  {
   "cell_type": "markdown",
   "metadata": {},
   "source": [
    "### GET parameterised URL"
   ]
  },
  {
   "cell_type": "code",
   "execution_count": 5,
   "metadata": {},
   "outputs": [
    {
     "name": "stdout",
     "output_type": "stream",
     "text": [
      "Hello, dekopin!\n"
     ]
    }
   ],
   "source": [
    "const response = await fetch(\"http://localhost:3000/hello/dekopin\");\n",
    "if (response.status === 200) {\n",
    "    const text = await response.text();\n",
    "    console.log(text);\n",
    "} else {\n",
    "    console.log(response);\n",
    "}"
   ]
  },
  {
   "cell_type": "markdown",
   "metadata": {},
   "source": [
    "### Get the top page"
   ]
  },
  {
   "cell_type": "code",
   "execution_count": 6,
   "metadata": {},
   "outputs": [
    {
     "name": "stdout",
     "output_type": "stream",
     "text": [
      "<html>\n",
      "  <head>\n",
      "    <meta charset=\"UTF-8\" />\n",
      "    <title>JavaScript本格入門</title>\n",
      "  </head>\n",
      "  <body>\n",
      "    <h3>10.4 非同期通信の基本を理解する - Fetch API</h3>\n",
      "    <ul>\n",
      "        <li><a href=\"fetch_basic.html\">fetch_basic</a></li>\n",
      "        <li><a href=\"fetch_query.html\">fetch_query</a></li>\n",
      "        <li><a href=\"fetch_post.html\">fetch_post</a></li>\n",
      "        <li><a href=\"fetch_upload.html\">fetch_upload</a></li>\n",
      "        <li><a href=\"fetch_query_cors.html\">fetch_query_cors</a></li>\n",
      "        <li><a href=\"bookmark.html\">bookmark</a></li>\n",
      "        <li><a href=\"bookmark_jsonp.html\">bookmark_jsonp</a></li>\n",
      "        <li><a href=\"cross_main.html\">cross_main</a></li>\n",
      "    </ul>\n",
      "  </body>\n",
      "</html>\n"
     ]
    }
   ],
   "source": [
    "const response = await fetch(\"http://localhost:3000/\");\n",
    "if (response.status === 200) {\n",
    "    const text = await response.text();\n",
    "    console.log(text);\n",
    "} else {\n",
    "    console.log(response);\n",
    "}"
   ]
  },
  {
   "cell_type": "markdown",
   "metadata": {},
   "source": [
    "### Get an HTML"
   ]
  },
  {
   "cell_type": "code",
   "execution_count": 7,
   "metadata": {},
   "outputs": [
    {
     "name": "stdout",
     "output_type": "stream",
     "text": [
      "<html>\n",
      "  <head>\n",
      "    <meta charset=\"UTF-8\" />\n",
      "    <title>JavaScript本格入門</title>\n",
      "  </head>\n",
      "  <body>\n",
      "    <input id='btn' type=\"button\" value=\"print message in console\"/>\n",
      "    <script type=\"text/javascript\" src=\"scripts/fetch_basic.js\"></script>\n",
      "  </body>\n",
      "</html>\n"
     ]
    }
   ],
   "source": [
    "const response = await fetch(\"http://localhost:3000/fetch_basic.html\");\n",
    "if (response.status === 200) {\n",
    "    const text = await response.text();\n",
    "    console.log(text);\n",
    "} else {\n",
    "    console.log(response);\n",
    "}"
   ]
  },
  {
   "cell_type": "markdown",
   "metadata": {},
   "source": [
    "### Get a JavaScript"
   ]
  },
  {
   "cell_type": "code",
   "execution_count": 8,
   "metadata": {},
   "outputs": [
    {
     "name": "stdout",
     "output_type": "stream",
     "text": [
      "let btn = document.querySelector('#btn');\n",
      "btn.addEventListener('click', function() {\n",
      "    fetch('book.json')\n",
      "        .then(res => {\n",
      "            if (res.ok) {\n",
      "                return res.json();\n",
      "            }\n",
      "            throw new Error('unable to access the specified resource');\n",
      "        })\n",
      "        .then(data => console.log(data.title))\n",
      "        .catch(e => window.alert(e.message));\n",
      "}, false);\n"
     ]
    }
   ],
   "source": [
    "const response = await fetch(\"http://localhost:3000/scripts/fetch_basic.js\");\n",
    "if (response.status === 200) {\n",
    "    const text = await response.text();\n",
    "    console.log(text);\n",
    "} else {\n",
    "    console.log(response);\n",
    "}"
   ]
  },
  {
   "cell_type": "markdown",
   "metadata": {},
   "source": [
    "### Get a JSON"
   ]
  },
  {
   "cell_type": "code",
   "execution_count": 3,
   "metadata": {},
   "outputs": [
    {
     "name": "stdout",
     "output_type": "stream",
     "text": [
      "{\n",
      "  \"title\": \"JavaScript本格入門\",\n",
      "  \"price\": 3200,\n",
      "  \"publisher\": \"技術評論社\"\n",
      "}\n"
     ]
    }
   ],
   "source": [
    "const response = await fetch(\"http://localhost:3000/book.json\");\n",
    "if (response.status === 200) {\n",
    "    const text = await response.text();\n",
    "    console.log(text);\n",
    "} else {\n",
    "    console.log(response);\n",
    "}"
   ]
  }
 ],
 "metadata": {
  "kernelspec": {
   "display_name": "Deno",
   "language": "typescript",
   "name": "deno"
  },
  "language_info": {
   "file_extension": ".ts",
   "mimetype": "text/x.typescript",
   "name": "typescript",
   "nb_converter": "script",
   "pygments_lexer": "typescript",
   "version": "5.3.3"
  }
 },
 "nbformat": 4,
 "nbformat_minor": 2
}
